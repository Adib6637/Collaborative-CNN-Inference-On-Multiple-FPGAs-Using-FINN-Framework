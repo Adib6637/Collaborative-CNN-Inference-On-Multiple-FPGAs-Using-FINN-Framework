{
 "cells": [
  {
   "cell_type": "markdown",
   "id": "0714c101-6880-4b31-8da7-44e4a60e603a",
   "metadata": {},
   "source": [
    "# Model"
   ]
  },
  {
   "cell_type": "code",
   "execution_count": null,
   "id": "e75154e8",
   "metadata": {},
   "outputs": [],
   "source": [
    "# Model source\n",
    "import sys\n",
    "sys.path.append(\"/home/homer/ekiapp/finn/notebooks/GitHub/M_Project/Patitioning/tmp\")\n",
    "sys.path.append(\"/home/homer/ekiapp/finn/deps/brevitas/src/brevitas_examples\")\n",
    "from bnn_pynq.models.CNV import*\n",
    "\n",
    "# Configuration\n",
    "import configparser\n",
    "config = configparser.ConfigParser()\n",
    "config['QUANT'] = {'WEIGHT_BIT_WIDTH': '1',\n",
    "                     'ACT_BIT_WIDTH': '1',\n",
    "                     'IN_BIT_WIDTH': '8'}\n",
    "config['MODEL'] = {'NUM_CLASSES':'2',\n",
    "                  'IN_CHANNELS':'3'}\n",
    "# Model\n",
    "model = cnv(config)"
   ]
  },
  {
   "cell_type": "code",
   "execution_count": null,
   "id": "ca2d7253-17b2-46af-b7af-ce95b298f613",
   "metadata": {},
   "outputs": [],
   "source": [
    "import torch\n",
    "from qonnx.core.modelwrapper import ModelWrapper\n",
    "\n",
    "# trained model\n",
    "model_ref = model\n",
    "model_ref.load_state_dict(torch.load('../../../../notebooks/GitHub/M_Project/Model/tmp/cnv_e50_1bit_trained.pth'))\n",
    "\n",
    "# transformed model\n",
    "model_ut = ModelWrapper(\"../../../../notebooks/GitHub/M_Project/Patitioning/tmp/cnv_1bit_trained_finn.onnx_streamlined.onnx\")"
   ]
  },
  {
   "cell_type": "markdown",
   "id": "e5b7a863-c646-4382-8462-45e1df43dce5",
   "metadata": {},
   "source": [
    "# Dataset"
   ]
  },
  {
   "cell_type": "code",
   "execution_count": null,
   "id": "3fbbb6f2-4f0f-4d71-a2eb-a505b4566707",
   "metadata": {},
   "outputs": [],
   "source": [
    "# Dependencies\n",
    "import numpy as np\n",
    "import finn.core.onnx_exec as oxe\n",
    "from torch import nn\n",
    "from torch.utils.data import DataLoader\n",
    "from torchvision import datasets, transforms\n",
    "from torchvision.transforms import ToTensor, Compose\n",
    "from torchvision.models import *\n",
    "import random\n",
    "import gc \n",
    "import os\n",
    "torch.manual_seed(0)\n",
    "\n",
    "# configure device\n",
    "if (torch.cuda.is_available()):\n",
    "    dev = 'cuda'\n",
    "else:\n",
    "    dev = 'cpu'\n",
    "device = dev\n",
    "if (torch.cuda.is_available()):\n",
    "    torch.cuda.device(device)\n",
    "    gc.collect()\n",
    "    torch.cuda.empty_cache()\n",
    "print(\"using \" + device)\n",
    "\n",
    "# dataset\n",
    "path_dataset = \"/home/homer/ekiapp/finn/notebooks/dataset/SugarWeed\"#\"/home/homer/Downloads/dataset/SugarWeed\"\n",
    "batch_size = 16\n",
    "train_set = 0.8\n",
    "test_set = 0.2\n",
    "img_size = 32\n",
    "rand_rotation = 30\n",
    "\n",
    "# Create data loaders.\n",
    "data_dir = path_dataset\n",
    "\n",
    "# Applying Transformation\n",
    "train_transforms = transforms.Compose([\n",
    "                                transforms.RandomRotation(rand_rotation),\n",
    "                                transforms.RandomResizedCrop(img_size),\n",
    "                                transforms.RandomHorizontalFlip(),\n",
    "                                transforms.ToTensor()])\n",
    "test_dataset = datasets.ImageFolder(f\"{data_dir}/val\", transform=train_transforms)\n",
    "testloader = torch.utils.data.DataLoader(test_dataset, batch_size=batch_size)"
   ]
  },
  {
   "cell_type": "markdown",
   "id": "7255db5b-62f9-4b29-b04e-121a77ede310",
   "metadata": {},
   "source": [
    "# Validation"
   ]
  },
  {
   "cell_type": "code",
   "execution_count": null,
   "id": "9409810c-192c-4864-a052-d5e9d43ca58a",
   "metadata": {},
   "outputs": [],
   "source": [
    "model.eval()\n",
    "correct = 0\n",
    "total = 0\n",
    "with torch.no_grad():\n",
    "    for data in testloader:\n",
    "        images, labels = data\n",
    "        images = images[0]\n",
    "        images = images.numpy() *255\n",
    "        images_np = images#.astype(np.uint8)\n",
    "        images = torch.from_numpy(images_np.reshape(1,3,32,32))\n",
    "        \n",
    "        # model ref\n",
    "        input_brevitas = images\n",
    "        outputs_ref = model_ref(input_brevitas)\n",
    "        # model_ut\n",
    "        input_dict = {\"global_in\": images_np.reshape(1,3,32,32)}\n",
    "        output_dict = oxe.execute_onnx(model_ut, input_dict, return_full_exec_context=False)\n",
    "        output_ut = output_dict[list(output_dict.keys())[0]]\n",
    "\n",
    "        # compare\n",
    "        try:\n",
    "            assert np.isclose(output_ut.flatten()[0], torch.argmax(outputs_ref).item(), atol=1e-3).all()\n",
    "            print(\"Results are the same!\")\n",
    "        except AssertionError:\n",
    "            print (\"output_ut.flatten()[0]:\\t\" + str(output_ut.flatten()[0]))\n",
    "            print (\"torch.argmax(outputs_ref).item():\\t\" + str(torch.argmax(outputs_ref).item()))\n",
    "            print (\"The results are not the same!\")\n",
    "            #assert False, \"The results are not the same!\"\n",
    "\n",
    "\n"
   ]
  },
  {
   "cell_type": "markdown",
   "id": "99080e6d-9637-44ff-8037-90e29dc75097",
   "metadata": {},
   "source": [
    "# Accuracy check"
   ]
  },
  {
   "cell_type": "code",
   "execution_count": null,
   "id": "f9baf767-8fd6-4273-82a0-75802e3e7be9",
   "metadata": {},
   "outputs": [],
   "source": [
    "def accuracy_check(model, dataloader):\n",
    "    model.eval()\n",
    "    correct = 0\n",
    "    total = 0\n",
    "    with torch.no_grad():\n",
    "        for data in dataloader:\n",
    "            images, labels = data\n",
    "            images = images.numpy() *255\n",
    "            images = images.astype(np.uint8)\n",
    "            images = torch.from_numpy(images)\n",
    "            outputs = model(images)\n",
    "            _, predicted = torch.max(outputs.data, 1)\n",
    "            total += labels.size(0)\n",
    "            correct += (predicted == labels).sum().item()\n",
    "    accuracy = 100 * correct / total\n",
    "    return accuracy\n",
    "\n",
    "model.load_state_dict(torch.load('/home/homer/ekiapp/finn/notebooks/GitHub/M_Project/Model/tmp/cnv_e50_1bit_trained.pth'))#cnv_e50_1bit_trained.pth'))#cnv_2epoch_1bit_adam_trained.pth'))\n",
    "torch.manual_seed(0)\n",
    "accuracy = accuracy_check(model, testloader)"
   ]
  },
  {
   "cell_type": "code",
   "execution_count": null,
   "id": "f64a64e8-dd64-48eb-b4d2-081eb81ae2cd",
   "metadata": {},
   "outputs": [],
   "source": [
    "accuracy"
   ]
  },
  {
   "cell_type": "code",
   "execution_count": null,
   "id": "e2c688e5-00ee-455a-9654-af0f37b276a1",
   "metadata": {},
   "outputs": [],
   "source": [
    "first_batch = next(iter(testloader)) #list\n",
    "print(first_batch)"
   ]
  },
  {
   "cell_type": "code",
   "execution_count": null,
   "id": "21926d5d-983f-4531-8d79-578f29a6f13f",
   "metadata": {},
   "outputs": [],
   "source": [
    "data_np = first_batch[0].numpy()\n",
    "labels_np = first_batch[1].numpy()"
   ]
  },
  {
   "cell_type": "code",
   "execution_count": null,
   "id": "25c37fc1-9356-4a9d-8669-997cd34eb6bd",
   "metadata": {},
   "outputs": [],
   "source": [
    "data_np.shape[0]"
   ]
  },
  {
   "cell_type": "code",
   "execution_count": null,
   "id": "0b76387a-43db-4841-ad6b-162a2b3c17d3",
   "metadata": {},
   "outputs": [],
   "source": [
    "labels_np.flatten()[0]"
   ]
  },
  {
   "cell_type": "code",
   "execution_count": null,
   "id": "9c34da2a-0ee9-43d1-a08a-42993e157b77",
   "metadata": {},
   "outputs": [],
   "source": []
  }
 ],
 "metadata": {
  "kernelspec": {
   "display_name": "Python 3 (ipykernel)",
   "language": "python",
   "name": "python3"
  },
  "language_info": {
   "codemirror_mode": {
    "name": "ipython",
    "version": 3
   },
   "file_extension": ".py",
   "mimetype": "text/x-python",
   "name": "python",
   "nbconvert_exporter": "python",
   "pygments_lexer": "ipython3",
   "version": "3.10.12"
  }
 },
 "nbformat": 4,
 "nbformat_minor": 5
}
