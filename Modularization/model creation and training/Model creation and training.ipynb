{
 "cells": [
  {
   "cell_type": "markdown",
   "id": "0714c101-6880-4b31-8da7-44e4a60e603a",
   "metadata": {},
   "source": [
    "# Model"
   ]
  },
  {
   "cell_type": "code",
   "execution_count": null,
   "id": "e75154e8",
   "metadata": {},
   "outputs": [],
   "source": [
    "import sys\n",
    "import configparser\n",
    "sys.path.append(\"../../../../deps/brevitas/src/brevitas_examples\") #bnn_pynq\n",
    "from bnn_pynq.models.CNV import*\n",
    "\n",
    "# Model configuration\n",
    "config = configparser.ConfigParser()\n",
    "config['QUANT'] = {'WEIGHT_BIT_WIDTH': '1',\n",
    "                     'ACT_BIT_WIDTH': '1',\n",
    "                     'IN_BIT_WIDTH': '8'}\n",
    "config['MODEL'] = {'NUM_CLASSES':'2',\n",
    "                  'IN_CHANNELS':'3'}\n",
    "model = cnv(config)"
   ]
  },
  {
   "cell_type": "markdown",
   "id": "e5b7a863-c646-4382-8462-45e1df43dce5",
   "metadata": {},
   "source": [
    "# Dataset"
   ]
  },
  {
   "cell_type": "code",
   "execution_count": null,
   "id": "3fbbb6f2-4f0f-4d71-a2eb-a505b4566707",
   "metadata": {},
   "outputs": [],
   "source": [
    "# Dependencies\n",
    "import torch\n",
    "from torch import nn\n",
    "from torch.utils.data import DataLoader\n",
    "from torchvision import datasets, transforms\n",
    "from torchvision.transforms import ToTensor, Lambda, Compose\n",
    "from torchvision.io import read_image\n",
    "from IPython.display import display\n",
    "from ipywidgets import IntProgress\n",
    "from torchvision.models import *\n",
    "import random\n",
    "import time\n",
    "import gc \n",
    "\n",
    "# configure device\n",
    "if (torch.cuda.is_available()):\n",
    "    dev = 'cuda'\n",
    "else:\n",
    "    dev = 'cpu'\n",
    "device = dev\n",
    "if (torch.cuda.is_available()):\n",
    "    torch.cuda.device(device)\n",
    "    gc.collect()\n",
    "    torch.cuda.empty_cache()\n",
    "print(\"using \" + device)\n",
    "\n",
    "# dataset\n",
    "path_dataset = \"../../../../notebooks/dataset/SugarWeed\"\n",
    "batch_size = 16\n",
    "train_set = 0.8\n",
    "test_set = 0.2\n",
    "img_size = 32\n",
    "rand_rotation = 30\n",
    "\n",
    "# Create data loaders.\n",
    "data_dir = path_dataset\n",
    "\n",
    "# Applying Transformation\n",
    "train_transforms = transforms.Compose([\n",
    "                                transforms.RandomRotation(rand_rotation),\n",
    "                                transforms.RandomResizedCrop(img_size),\n",
    "                                transforms.RandomHorizontalFlip(),\n",
    "                                transforms.ToTensor()])\n",
    "\n",
    "# Data Loading\n",
    "train_dataset = datasets.ImageFolder(f\"{data_dir}/train\", transform=train_transforms)\n",
    "test_dataset = datasets.ImageFolder(f\"{data_dir}/val\", transform=train_transforms)\n",
    "\n",
    "# Dataset partition\n",
    "trainloader = torch.utils.data.DataLoader(train_dataset, batch_size=batch_size)\n",
    "testloader = torch.utils.data.DataLoader(test_dataset, batch_size=batch_size)"
   ]
  },
  {
   "cell_type": "markdown",
   "id": "fc55b037-5f8e-42fb-a4c2-200bb5565b0c",
   "metadata": {},
   "source": [
    "# Train"
   ]
  },
  {
   "cell_type": "code",
   "execution_count": null,
   "id": "79accf02-ba6c-45a5-8acd-4dcaf7405ef1",
   "metadata": {},
   "outputs": [],
   "source": [
    "# import EarlyStopping\n",
    "from pytorchtools import EarlyStopping\n",
    "import numpy as np"
   ]
  },
  {
   "cell_type": "code",
   "execution_count": null,
   "id": "2578e5f3-a42f-4554-9ae2-905b8fb2b8d4",
   "metadata": {},
   "outputs": [],
   "source": [
    "# train configuration\n",
    "epochs = 50\n",
    "patience = 10\n",
    "\n",
    "# loss function\n",
    "loss_fn = nn.CrossEntropyLoss()\n",
    "\n",
    "# training optimizer\n",
    "optimizer = torch.optim.SGD(model.parameters(), lr=1e-3)"
   ]
  },
  {
   "cell_type": "code",
   "execution_count": null,
   "id": "93bfcefc-55d6-48a2-929d-5abbd1a472da",
   "metadata": {},
   "outputs": [],
   "source": [
    "def train_model(model, batch_size, patience, n_epochs):\n",
    "    \n",
    "    train_losses = []\n",
    "    valid_losses = []\n",
    "    avg_train_losses = []\n",
    "    avg_valid_losses = [] \n",
    "    avg_dur =[]\n",
    "    dur =[]\n",
    "    total_epoch = 0\n",
    "    correct = 0\n",
    "    \n",
    "    early_stopping = EarlyStopping(patience=patience, verbose=True)\n",
    "    \n",
    "    for epoch in range(1, n_epochs + 1):\n",
    "        # train the model \n",
    "        print(f\"Epoch {epoch}\")\n",
    "        train_epoch_bar = IntProgress(min=0, max=len(trainloader), description='Train:') \n",
    "        display(train_epoch_bar) \n",
    "        \n",
    "        model.train() \n",
    "        for batch, (data, target) in enumerate(trainloader, 1):\n",
    "            train_epoch_bar.value += 1 \n",
    "            optimizer.zero_grad()\n",
    "            output = model(data)\n",
    "            loss = loss_fn(output, target)\n",
    "            loss.backward()\n",
    "            optimizer.step()\n",
    "            train_losses.append(loss.item())\n",
    " \n",
    "        # validate the model \n",
    "        validate_epoch_bar = IntProgress(min=0, max=len(testloader), description='Validate:') \n",
    "        display(validate_epoch_bar) \n",
    "        \n",
    "\n",
    "        size = len(testloader.dataset)\n",
    "        model.eval() \n",
    "        for data, target in testloader:\n",
    "            validate_epoch_bar.value += 1 \n",
    "            startTime = time.process_time()\n",
    "            output = model(data)\n",
    "            endtime = time.process_time()\n",
    "            loss = loss_fn(output, target)\n",
    "            # record validation loss\n",
    "            valid_losses.append(loss.item())\n",
    "            correct += (output.argmax(1) == target).type(torch.float).sum().item()\n",
    "            dur.append(endtime-startTime)\n",
    "\n",
    "        correct /= size\n",
    "        # print training/validation statistics \n",
    "        # calculate average loss over an epoch\n",
    "        train_loss = np.average(train_losses)\n",
    "        valid_loss = np.average(valid_losses)\n",
    "        avg_train_losses.append(train_loss)\n",
    "        avg_valid_losses.append(valid_loss)\n",
    "        avg_dur.append(np.average(dur))\n",
    "        \n",
    "        epoch_len = len(str(n_epochs))\n",
    "        \n",
    "        print_msg = (f'[{epoch:>{epoch_len}}/{n_epochs:>{epoch_len}}] ' +\n",
    "                     f'train_loss: {train_loss:.5f} ' +\n",
    "                     f'valid_loss: {valid_loss:.5f}')\n",
    "        print(print_msg)\n",
    "        print(f\"Accuracy: {(100*correct):>0.1f}%, AVg dur: {np.average(dur)} \\n\")\n",
    "        \n",
    "\n",
    "        train_losses = []\n",
    "        valid_losses = []\n",
    "        dur =[]\n",
    "        correct = 0\n",
    "        \n",
    "        early_stopping(valid_loss, model)\n",
    "\n",
    "        total_epoch = epoch\n",
    "        \n",
    "        if early_stopping.early_stop:\n",
    "            print(\"Early stopping\")\n",
    "            break\n",
    "        \n",
    "    model.load_state_dict(torch.load('checkpoint.pt'))\n",
    "\n",
    "    return  model, avg_train_losses, avg_valid_losses, total_epoch"
   ]
  },
  {
   "cell_type": "code",
   "execution_count": null,
   "id": "ad3ae74d",
   "metadata": {},
   "outputs": [],
   "source": [
    "model, avg_train_losses, avg_valid_losses, total_epoch = train_model(model, batch_size, patience, epochs)"
   ]
  },
  {
   "cell_type": "markdown",
   "id": "430e9a9a-2b40-4149-9c80-66f00894f532",
   "metadata": {},
   "source": [
    "# Export"
   ]
  },
  {
   "cell_type": "code",
   "execution_count": null,
   "id": "0f43b1aa-420a-403c-bc1a-28a711ff21f6",
   "metadata": {},
   "outputs": [],
   "source": [
    "from brevitas.export import export_qonnx\n",
    "export_model_path = f\"../../../../notebooks/GitHub/M_Project/Model/tmp/cnv_e{total_epoch}_1bit_trained.onnx\"\n",
    "input_tensor = torch.randn(1, 3, 32, 32)\n",
    "input_tensor = input_tensor.to(device)\n",
    "export_qonnx(module=model, input_t=input_tensor, export_path=export_model_path );"
   ]
  }
 ],
 "metadata": {
  "kernelspec": {
   "display_name": "Python 3 (ipykernel)",
   "language": "python",
   "name": "python3"
  },
  "language_info": {
   "codemirror_mode": {
    "name": "ipython",
    "version": 3
   },
   "file_extension": ".py",
   "mimetype": "text/x-python",
   "name": "python",
   "nbconvert_exporter": "python",
   "pygments_lexer": "ipython3",
   "version": "3.10.12"
  }
 },
 "nbformat": 4,
 "nbformat_minor": 5
}
